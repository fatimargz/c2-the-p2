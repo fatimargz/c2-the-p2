{
 "cells": [
  {
   "cell_type": "markdown",
   "id": "2830125e-93dc-4a2c-ad8b-f4773eff2b6c",
   "metadata": {
    "editable": true,
    "slideshow": {
     "slide_type": ""
    },
    "tags": []
   },
   "source": [
    "# Lesson 4 solutions 2: JIT-compiled Higgs combinatorics"
   ]
  },
  {
   "cell_type": "code",
   "execution_count": 1,
   "id": "9ae54629-4801-4825-8a6d-9b719a88e496",
   "metadata": {
    "editable": true,
    "slideshow": {
     "slide_type": ""
    },
    "tags": []
   },
   "outputs": [],
   "source": [
    "import matplotlib.pyplot as plt\n",
    "import numpy as np\n",
    "import numba as nb\n",
    "\n",
    "import awkward as ak\n",
    "import vector\n",
    "from hist import Hist\n",
    "vector.register_awkward()"
   ]
  },
  {
   "cell_type": "code",
   "execution_count": 2,
   "id": "9fb453ed-85d3-475d-a0e7-76c624bf8c24",
   "metadata": {
    "editable": true,
    "slideshow": {
     "slide_type": ""
    },
    "tags": []
   },
   "outputs": [],
   "source": [
    "events = ak.from_parquet(\"../data/SMHiggsToZZTo4L.parquet\")"
   ]
  },
  {
   "cell_type": "markdown",
   "id": "17b3df9c-e873-49ba-bf37-bbb7d74abab8",
   "metadata": {
    "editable": true,
    "slideshow": {
     "slide_type": ""
    },
    "tags": []
   },
   "source": [
    "<br><br><br>"
   ]
  },
  {
   "cell_type": "code",
   "execution_count": 3,
   "id": "4bcf4a33-4ddf-495e-a96c-0f308a211a5a",
   "metadata": {},
   "outputs": [],
   "source": [
    "eplus = events.electron[events.electron.charge > 0]\n",
    "eminus = events.electron[events.electron.charge < 0]"
   ]
  },
  {
   "cell_type": "code",
   "execution_count": 4,
   "id": "cb5914b9-11ca-4b7b-a10a-5a61f3ffb9da",
   "metadata": {},
   "outputs": [],
   "source": [
    "eplus_event = eplus[448]\n",
    "eminus_event = eminus[448]"
   ]
  },
  {
   "cell_type": "code",
   "execution_count": 5,
   "id": "76900d7c-ffdb-4d73-94bf-ead627ac6775",
   "metadata": {},
   "outputs": [
    {
     "name": "stdout",
     "output_type": "stream",
     "text": [
      "[{pt: 39.4, eta: 0.865, phi: 1.53, mass: 0.00949, charge: 1, ...},\n",
      " {pt: 68, eta: 0.681, phi: 0.922, mass: -0.0151, charge: 1, ...},\n",
      " {pt: 8.35, eta: -0.359, phi: -1.88, mass: 0.00204, charge: 1, ...}]\n"
     ]
    }
   ],
   "source": [
    "eplus_event.show()"
   ]
  },
  {
   "cell_type": "code",
   "execution_count": 6,
   "id": "ece795fb-b7b4-4eaa-a1fa-35079094b068",
   "metadata": {},
   "outputs": [
    {
     "name": "stdout",
     "output_type": "stream",
     "text": [
      "[{pt: 9.69, eta: -0.818, phi: -2.42, mass: 0.00165, charge: -1, ...},\n",
      " {pt: 53.7, eta: 1.41, phi: 2.29, mass: 0.0105, charge: -1, ...},\n",
      " {pt: 57, eta: 0.946, phi: 1.75, mass: 0.0233, charge: -1, ...}]\n"
     ]
    }
   ],
   "source": [
    "eminus_event.show()"
   ]
  },
  {
   "cell_type": "markdown",
   "id": "3bceefca-0b0e-4f07-991a-da7a4e639d37",
   "metadata": {
    "editable": true,
    "slideshow": {
     "slide_type": ""
    },
    "tags": []
   },
   "source": [
    "<br><br><br>"
   ]
  },
  {
   "cell_type": "markdown",
   "id": "06512df2-488f-495f-8f68-b514bdc14611",
   "metadata": {},
   "source": [
    "## Solution to exercise 1"
   ]
  },
  {
   "cell_type": "code",
   "execution_count": 7,
   "id": "967e6f44-f295-463f-ba22-4f7426bc2f3b",
   "metadata": {},
   "outputs": [
    {
     "name": "stdout",
     "output_type": "stream",
     "text": [
      "e+ index  | e- index \n",
      "Z1_i Z2_i | Z1_j Z2_j\n",
      "----------+----------\n",
      "   0    1 |    0    1\n",
      "   0    1 |    0    2\n",
      "   0    1 |    1    2\n",
      "----------+----------\n",
      "   0    2 |    0    1\n",
      "   0    2 |    0    2\n",
      "   0    2 |    1    2\n",
      "----------+----------\n",
      "   1    2 |    0    1\n",
      "   1    2 |    0    2\n",
      "   1    2 |    1    2\n",
      "----------+----------\n"
     ]
    }
   ],
   "source": [
    "print( \"e+ index  | e- index \")\n",
    "print(f\"Z1_i Z2_i | Z1_j Z2_j\")\n",
    "print( \"----------+----------\")\n",
    "for Z1_i in range(len(eplus_event)):\n",
    "    for Z2_i in range(Z1_i + 1, len(eplus_event)):\n",
    "        for Z1_j in range(len(eminus_event)):\n",
    "            for Z2_j in range(Z1_j + 1, len(eminus_event)):\n",
    "                print(f\"{Z1_i:4d} {Z2_i:4d} | {Z1_j:4d} {Z2_j:4d}\")\n",
    "        print( \"----------+----------\")"
   ]
  },
  {
   "cell_type": "markdown",
   "id": "27e452a7-a97c-4cc8-a94f-01bdc4d18a30",
   "metadata": {
    "editable": true,
    "slideshow": {
     "slide_type": ""
    },
    "tags": []
   },
   "source": [
    "<br><br><br>"
   ]
  },
  {
   "cell_type": "markdown",
   "id": "590019f8-1416-481c-b8bc-1d39c19799b8",
   "metadata": {},
   "source": [
    "## Solution to exercise 2"
   ]
  },
  {
   "cell_type": "code",
   "execution_count": 8,
   "id": "f192fae2-ec3c-414a-8f33-19e322a023a5",
   "metadata": {},
   "outputs": [
    {
     "name": "stdout",
     "output_type": "stream",
     "text": [
      " Zsmall  |  Zbig   \n",
      "---------+---------\n",
      "51.54425 | 88.57392\n",
      "51.54425 | 52.81760\n",
      "42.52653 | 52.81760\n",
      "---------+---------\n",
      "51.54425 | 56.26014\n",
      "51.54425 | 52.19812\n",
      "42.52653 | 52.19812\n",
      "---------+---------\n",
      "56.26014 | 66.23705\n",
      "52.19812 | 66.23705\n",
      "52.19812 | 88.57392\n",
      "---------+---------\n"
     ]
    }
   ],
   "source": [
    "print( \" Zsmall  |  Zbig   \")\n",
    "print( \"---------+---------\")\n",
    "for Z1_i in range(len(eplus_event)):\n",
    "    for Z2_i in range(Z1_i + 1, len(eplus_event)):\n",
    "        for Z1_j in range(len(eminus_event)):\n",
    "            for Z2_j in range(Z1_j + 1, len(eminus_event)):\n",
    "                Z1 = eplus_event[Z1_i] + eminus_event[Z1_j]\n",
    "                Z2 = eplus_event[Z2_i] + eminus_event[Z2_j]\n",
    "                if Z1.mass < Z2.mass:\n",
    "                    Zsmall, Zbig = Z1, Z2\n",
    "                else:\n",
    "                    Zsmall, Zbig = Z2, Z1\n",
    "                print(f\"{Zsmall.mass:.5f} | {Zbig.mass:.5f}\")\n",
    "        print( \"---------+---------\")"
   ]
  },
  {
   "cell_type": "markdown",
   "id": "c66bb83e-f1eb-41b9-8918-ea861877c180",
   "metadata": {
    "editable": true,
    "slideshow": {
     "slide_type": ""
    },
    "tags": []
   },
   "source": [
    "<br><br><br>"
   ]
  },
  {
   "cell_type": "markdown",
   "id": "f3e0e40d-013c-48da-8486-65bee1a4290b",
   "metadata": {},
   "source": [
    "## Solution to exercise 3"
   ]
  },
  {
   "cell_type": "code",
   "execution_count": 9,
   "id": "9cc3e5f4-cadf-432f-b154-bd7f44e06cfe",
   "metadata": {
    "editable": true,
    "slideshow": {
     "slide_type": ""
    },
    "tags": []
   },
   "outputs": [],
   "source": [
    "from particle import Particle\n",
    "from hepunits import GeV\n",
    "\n",
    "onshell_mass = Particle.from_name(\"Z0\").mass / GeV"
   ]
  },
  {
   "cell_type": "code",
   "execution_count": 10,
   "id": "329b5ee0-a06c-4b14-8644-e2031a58e599",
   "metadata": {},
   "outputs": [
    {
     "data": {
      "text/plain": [
       "(MomentumObject4D(pt=33.42538833618164, phi=1.739370346069336, eta=0.799430251121521, mass=51.54425336055015),\n",
       " MomentumObject4D(pt=94.71172332763672, phi=1.511854887008667, eta=1.2571223974227905, mass=88.57390122928403))"
      ]
     },
     "execution_count": 10,
     "metadata": {},
     "output_type": "execute_result"
    }
   ],
   "source": [
    "@nb.njit\n",
    "def best_interpretation(eplus_event, eminus_event):\n",
    "    best_Zsmall, best_Zbig = None, None\n",
    "    for Z1_i in range(len(eplus_event)):\n",
    "        for Z2_i in range(Z1_i + 1, len(eplus_event)):\n",
    "            for Z1_j in range(len(eminus_event)):\n",
    "                for Z2_j in range(Z1_j + 1, len(eminus_event)):\n",
    "                    Z1 = eplus_event[Z1_i] + eminus_event[Z1_j]\n",
    "                    Z2 = eplus_event[Z2_i] + eminus_event[Z2_j]\n",
    "                    if Z1.mass < Z2.mass:\n",
    "                        Zsmall, Zbig = Z1, Z2\n",
    "                    else:\n",
    "                        Zsmall, Zbig = Z2, Z1\n",
    "                    if best_Zbig is None or abs(Zbig.mass - onshell_mass) < abs(best_Zbig.mass - onshell_mass):\n",
    "                        best_Zsmall, best_Zbig = Zsmall, Zbig\n",
    "    return best_Zsmall, best_Zbig\n",
    "\n",
    "best_interpretation(eplus_event, eminus_event)"
   ]
  },
  {
   "cell_type": "markdown",
   "id": "152645bc-3e6c-4561-b32a-ae5c370ff1cd",
   "metadata": {
    "editable": true,
    "slideshow": {
     "slide_type": ""
    },
    "tags": []
   },
   "source": [
    "<br><br><br>"
   ]
  },
  {
   "cell_type": "markdown",
   "id": "afa8b363-56ce-48e7-88cb-a2eb63e94cbb",
   "metadata": {},
   "source": [
    "## Solution to exercise 4"
   ]
  },
  {
   "cell_type": "code",
   "execution_count": 11,
   "id": "2ae75096-3647-4b32-8386-924a78536007",
   "metadata": {},
   "outputs": [],
   "source": [
    "@nb.njit\n",
    "def best_interpretation_per_event(eplus, eminus):\n",
    "    zmass_small = np.empty(len(eplus), dtype=np.float64)\n",
    "    zmass_big = np.empty(len(eplus), dtype=np.float64)\n",
    "    higgsmass = np.empty(len(eplus), dtype=np.float64)\n",
    "    for i, (eplus_event, eminus_event) in enumerate(zip(eplus, eminus)):\n",
    "        best_Zsmall, best_Zbig = best_interpretation(eplus_event, eminus_event)\n",
    "        if best_Zsmall is not None and best_Zbig is not None:\n",
    "            zmass_small[i] = best_Zsmall.mass\n",
    "            zmass_big[i] = best_Zbig.mass\n",
    "            if 12 < best_Zsmall.mass < 120 and 40 < best_Zbig.mass < 120:\n",
    "                higgsmass[i] = (best_Zsmall + best_Zbig).mass\n",
    "            else:\n",
    "                higgsmass[i] = np.nan\n",
    "        else:\n",
    "            zmass_small[i] = np.nan\n",
    "            zmass_big[i] = np.nan\n",
    "            higgsmass[i] = np.nan\n",
    "    return zmass_small, zmass_big, higgsmass\n",
    "\n",
    "zmass_small, zmass_big, higgsmass = best_interpretation_per_event(eplus, eminus)"
   ]
  },
  {
   "cell_type": "code",
   "execution_count": 12,
   "id": "d182413f-f69b-4d55-9ae2-4422caeb54db",
   "metadata": {},
   "outputs": [
    {
     "data": {
      "image/png": "[encoded data removed]",
      "text/plain": [
       "<Figure size 640x480 with 3 Axes>"
      ]
     },
     "metadata": {},
     "output_type": "display_data"
    }
   ],
   "source": [
    "Hist.new.Regular(60, 0, 120, name=\"zmass_small\").Regular(60, 0, 120, name=\"zmass_big\").Double().fill(\n",
    "    zmass_small=zmass_small,\n",
    "    zmass_big=zmass_big,\n",
    ").plot2d_full();"
   ]
  },
  {
   "cell_type": "code",
   "execution_count": 13,
   "id": "d4cb399b-abe3-42a3-9abc-175069bc19a7",
   "metadata": {
    "editable": true,
    "slideshow": {
     "slide_type": ""
    },
    "tags": []
   },
   "outputs": [
    {
     "data": {
      "image/png": "[encoded data removed]",
      "text/plain": [
       "<Figure size 640x480 with 1 Axes>"
      ]
     },
     "metadata": {},
     "output_type": "display_data"
    }
   ],
   "source": [
    "Hist.new.Regular(100, 0, 200, name=\"Higgs mass\").Double().fill(\n",
    "    higgsmass\n",
    ").plot();"
   ]
  }
 ],
 "metadata": {
  "kernelspec": {
   "display_name": "Python 3 (ipykernel)",
   "language": "python",
   "name": "python3"
  },
  "language_info": {
   "codemirror_mode": {
    "name": "ipython",
    "version": 3
   },
   "file_extension": ".py",
   "mimetype": "text/x-python",
   "name": "python",
   "nbconvert_exporter": "python",
   "pygments_lexer": "ipython3",
   "version": "3.10.13"
  }
 },
 "nbformat": 4,
 "nbformat_minor": 5
}
